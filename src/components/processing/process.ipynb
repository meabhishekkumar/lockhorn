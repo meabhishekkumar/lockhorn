{
 "cells": [
  {
   "cell_type": "code",
   "execution_count": 1,
   "id": "4f820ae2-ffe3-4c90-a003-2cd69b8ae9c1",
   "metadata": {
    "execution": {
     "iopub.execute_input": "2021-12-12T06:06:52.463170Z",
     "iopub.status.busy": "2021-12-12T06:06:52.462688Z",
     "iopub.status.idle": "2021-12-12T06:06:55.053041Z",
     "shell.execute_reply": "2021-12-12T06:06:55.053483Z"
    },
    "papermill": {
     "duration": 2.615026,
     "end_time": "2021-12-12T06:06:55.053714",
     "exception": false,
     "start_time": "2021-12-12T06:06:52.438688",
     "status": "completed"
    },
    "tags": []
   },
   "outputs": [
    {
     "name": "stdout",
     "output_type": "stream",
     "text": [
      "Processing ./lockhorn-0.2.0-py3-none-any.whl\r\n"
     ]
    },
    {
     "name": "stdout",
     "output_type": "stream",
     "text": [
      "Installing collected packages: lockhorn\r\n",
      "  Attempting uninstall: lockhorn\r\n",
      "    Found existing installation: lockhorn 0.2.0\r\n"
     ]
    },
    {
     "name": "stdout",
     "output_type": "stream",
     "text": [
      "    Uninstalling lockhorn-0.2.0:\r\n",
      "      Successfully uninstalled lockhorn-0.2.0\r\n"
     ]
    },
    {
     "name": "stdout",
     "output_type": "stream",
     "text": [
      "Successfully installed lockhorn-0.2.0\r\n"
     ]
    }
   ],
   "source": [
    "!pip install --force-reinstall lockhorn-0.2.0-py3-none-any.whl"
   ]
  },
  {
   "cell_type": "code",
   "execution_count": 2,
   "id": "93898f5e-73d5-4064-86cc-fb5fa6e429ad",
   "metadata": {
    "execution": {
     "iopub.execute_input": "2021-12-12T06:06:55.092867Z",
     "iopub.status.busy": "2021-12-12T06:06:55.092388Z",
     "iopub.status.idle": "2021-12-12T06:06:55.095939Z",
     "shell.execute_reply": "2021-12-12T06:06:55.095463Z"
    },
    "papermill": {
     "duration": 0.025244,
     "end_time": "2021-12-12T06:06:55.096073",
     "exception": false,
     "start_time": "2021-12-12T06:06:55.070829",
     "status": "completed"
    },
    "tags": []
   },
   "outputs": [],
   "source": [
    "import logging\n",
    "from lockhorn.process.process import DataProcess\n",
    "\n",
    "logging = logging.getLogger(__name__)"
   ]
  },
  {
   "cell_type": "code",
   "execution_count": 3,
   "id": "a5dc2f35-b2b8-43b5-939f-b1547d5d0539",
   "metadata": {
    "execution": {
     "iopub.execute_input": "2021-12-12T06:06:55.132417Z",
     "iopub.status.busy": "2021-12-12T06:06:55.131912Z",
     "iopub.status.idle": "2021-12-12T06:06:55.133863Z",
     "shell.execute_reply": "2021-12-12T06:06:55.133468Z"
    },
    "papermill": {
     "duration": 0.021944,
     "end_time": "2021-12-12T06:06:55.133987",
     "exception": false,
     "start_time": "2021-12-12T06:06:55.112043",
     "status": "completed"
    },
    "tags": []
   },
   "outputs": [],
   "source": [
    "logging.info(\"running process component\")\n",
    "process = DataProcess()"
   ]
  },
  {
   "cell_type": "code",
   "execution_count": null,
   "id": "5def267e-8e78-4b3f-9858-11deedc8cee5",
   "metadata": {
    "papermill": {
     "duration": 0.020212,
     "end_time": "2021-12-12T06:06:55.171688",
     "exception": false,
     "start_time": "2021-12-12T06:06:55.151476",
     "status": "completed"
    },
    "tags": []
   },
   "outputs": [],
   "source": []
  }
 ],
 "metadata": {
  "kernelspec": {
   "display_name": "Python 3 (ipykernel)",
   "language": "python",
   "name": "python3"
  },
  "language_info": {
   "codemirror_mode": {
    "name": "ipython",
    "version": 3
   },
   "file_extension": ".py",
   "mimetype": "text/x-python",
   "name": "python",
   "nbconvert_exporter": "python",
   "pygments_lexer": "ipython3",
   "version": "3.7.9"
  },
  "papermill": {
   "default_parameters": {},
   "duration": 3.80655,
   "end_time": "2021-12-12T06:06:55.402305",
   "environment_variables": {},
   "exception": null,
   "input_path": "/home/jovyan/abhi-experiments/lockhorn/src/components/process.ipynb",
   "output_path": "/home/jovyan/abhi-experiments/lockhorn/src/components/process.ipynb",
   "parameters": {},
   "start_time": "2021-12-12T06:06:51.595755",
   "version": "2.3.3"
  }
 },
 "nbformat": 4,
 "nbformat_minor": 5
}