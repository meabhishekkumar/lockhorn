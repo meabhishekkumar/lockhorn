{
 "cells": [
  {
   "cell_type": "code",
   "execution_count": 2,
   "id": "8908dbee-ae7b-46b4-8f53-db01b28d96d0",
   "metadata": {
    "papermill": {
     "duration": 2.6316,
     "end_time": "2021-12-12T06:06:51.127047",
     "exception": false,
     "start_time": "2021-12-12T06:06:48.495447",
     "status": "completed"
    },
    "tags": []
   },
   "outputs": [
    {
     "name": "stdout",
     "output_type": "stream",
     "text": [
      "Processing ./lockhorn-0.2.0-py3-none-any.whl\n",
      "Installing collected packages: lockhorn\n",
      "Successfully installed lockhorn-0.2.0\n"
     ]
    }
   ],
   "source": [
    "!pip install --force-reinstall lockhorn-0.2.0-py3-none-any.whl\n",
    "\n",
    "# if you are not running from pipelines. Restart the kernel "
   ]
  },
  {
   "cell_type": "code",
   "execution_count": 3,
   "id": "87ee10c8-4f7c-4962-a4b5-38c316822321",
   "metadata": {
    "papermill": {
     "duration": 0.02578,
     "end_time": "2021-12-12T06:06:51.170632",
     "exception": false,
     "start_time": "2021-12-12T06:06:51.144852",
     "status": "completed"
    },
    "tags": []
   },
   "outputs": [],
   "source": [
    "import logging\n",
    "from lockhorn.schema.builder import SchemaBuilder\n",
    "logging = logging.getLogger(__name__)\n"
   ]
  },
  {
   "cell_type": "code",
   "execution_count": 4,
   "id": "3b7e167d-440d-4667-9391-2178e1f23c05",
   "metadata": {
    "papermill": {
     "duration": 0.024885,
     "end_time": "2021-12-12T06:06:51.212572",
     "exception": false,
     "start_time": "2021-12-12T06:06:51.187687",
     "status": "completed"
    },
    "tags": []
   },
   "outputs": [],
   "source": [
    "logging.info(\"running schema compoent\")\n",
    "builder = SchemaBuilder()"
   ]
  },
  {
   "cell_type": "code",
   "execution_count": 5,
   "id": "d6b01cd1-3829-49d9-9891-b76535123763",
   "metadata": {
    "papermill": {
     "duration": 0.036284,
     "end_time": "2021-12-12T06:06:51.269573",
     "exception": false,
     "start_time": "2021-12-12T06:06:51.233289",
     "status": "completed"
    },
    "tags": []
   },
   "outputs": [],
   "source": [
    "builder.run()"
   ]
  },
  {
   "cell_type": "code",
   "execution_count": null,
   "id": "fd1b22b5-8b4b-4ce0-89fc-5af4cfeed963",
   "metadata": {
    "papermill": {
     "duration": 0.020103,
     "end_time": "2021-12-12T06:06:51.312138",
     "exception": false,
     "start_time": "2021-12-12T06:06:51.292035",
     "status": "completed"
    },
    "tags": []
   },
   "outputs": [],
   "source": []
  }
 ],
 "metadata": {
  "kernelspec": {
   "display_name": "Python 3 (ipykernel)",
   "language": "python",
   "name": "python3"
  },
  "language_info": {
   "codemirror_mode": {
    "name": "ipython",
    "version": 3
   },
   "file_extension": ".py",
   "mimetype": "text/x-python",
   "name": "python",
   "nbconvert_exporter": "python",
   "pygments_lexer": "ipython3",
   "version": "3.7.9"
  },
  "papermill": {
   "default_parameters": {},
   "duration": 4.235286,
   "end_time": "2021-12-12T06:06:51.544903",
   "environment_variables": {},
   "exception": null,
   "input_path": "/home/jovyan/abhi-experiments/lockhorn/src/components/schema.ipynb",
   "output_path": "/home/jovyan/abhi-experiments/lockhorn/src/components/schema.ipynb",
   "parameters": {},
   "start_time": "2021-12-12T06:06:47.309617",
   "version": "2.3.3"
  }
 },
 "nbformat": 4,
 "nbformat_minor": 5
}
